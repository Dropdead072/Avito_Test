{
 "cells": [
  {
   "cell_type": "code",
   "execution_count": 16,
   "id": "7d9b76ff",
   "metadata": {},
   "outputs": [],
   "source": [
    "import pandas as pd\n",
    "from datasets import Dataset\n",
    "\n",
    "df = pd.read_csv(\"train_model_data/wiki_dataset.csv\", sep=\";\")\n",
    "\n",
    "dataset = Dataset.from_pandas(df)\n",
    "\n",
    "dataset = dataset.train_test_split(test_size=0.2, seed=42)\n",
    "train_dataset = dataset[\"train\"]\n",
    "eval_dataset = dataset[\"test\"]\n"
   ]
  },
  {
   "cell_type": "code",
   "execution_count": 17,
   "id": "89215622",
   "metadata": {},
   "outputs": [
    {
     "name": "stderr",
     "output_type": "stream",
     "text": [
      "c:\\Work_life\\HSE_and_study\\Intern\\Avito\\venv\\Lib\\site-packages\\huggingface_hub\\file_download.py:143: UserWarning: `huggingface_hub` cache-system uses symlinks by default to efficiently store duplicated files but your machine does not support them in C:\\Users\\Max\\.cache\\huggingface\\hub\\models--facebook--mbart-large-50. Caching files will still work but in a degraded version that might require more space on your disk. This warning can be disabled by setting the `HF_HUB_DISABLE_SYMLINKS_WARNING` environment variable. For more details, see https://huggingface.co/docs/huggingface_hub/how-to-cache#limitations.\n",
      "To support symlinks on Windows, you either need to activate Developer Mode or to run Python as an administrator. In order to activate developer mode, see this article: https://docs.microsoft.com/en-us/windows/apps/get-started/enable-your-device-for-development\n",
      "  warnings.warn(message)\n",
      "Xet Storage is enabled for this repo, but the 'hf_xet' package is not installed. Falling back to regular HTTP download. For better performance, install the package with: `pip install huggingface_hub[hf_xet]` or `pip install hf_xet`\n",
      "Map: 100%|██████████| 10400/10400 [00:00<00:00, 11035.41 examples/s]\n",
      "Map: 100%|██████████| 2600/2600 [00:00<00:00, 11334.12 examples/s]\n"
     ]
    }
   ],
   "source": [
    "from transformers import AutoTokenizer\n",
    "\n",
    "# model_name = \"google/mt5-small\"\n",
    "model_name = \"facebook/mbart-large-50\"\n",
    "tokenizer = AutoTokenizer.from_pretrained(model_name)\n",
    "\n",
    "def preprocess(examples):\n",
    "    inputs = examples[\"text_no_spaces\"]\n",
    "    targets = examples[\"text_restored\"]\n",
    "\n",
    "    model_inputs = tokenizer(inputs, truncation=True, padding=True, max_length=32)\n",
    "    labels = tokenizer(targets, truncation=True, padding=True, max_length=32)\n",
    "\n",
    "    model_inputs[\"labels\"] = [\n",
    "        [(l if l != tokenizer.pad_token_id else -100) for l in label]\n",
    "        for label in labels[\"input_ids\"]\n",
    "    ]\n",
    "\n",
    "    return model_inputs\n",
    "\n",
    "\n",
    "train_dataset = train_dataset.map(preprocess, batched=True)\n",
    "eval_dataset = eval_dataset.map(preprocess, batched=True)"
   ]
  },
  {
   "cell_type": "markdown",
   "id": "fc0e4edf",
   "metadata": {},
   "source": [
    "### Токенизация и подготовка датасета\n",
    "\n",
    "1. **Загрузка токенизатора**  \n",
    "   Используем токенизатор модели `facebook/mbart-large-50`.\n",
    "\n",
    "2. **Функция `preprocess`**  \n",
    "   - Вход: примеры с текстом без пробелов (`text_no_spaces`) и восстановленным текстом (`text_restored`).  \n",
    "   - Токенизирует входной и целевой текст с усечением до `max_length=32` и паддингом.  \n",
    "   - Заменяет паддинг токены на `-100` в метках, чтобы лосс-функция их игнорировала.\n",
    "\n",
    "3. **Применение к датасету**  \n",
    "   - `train_dataset.map(preprocess, batched=True)` — токенизация обучающего датасета.  \n",
    "   - `eval_dataset.map(preprocess, batched=True)` — токенизация валидационного датасета.\n",
    "\n",
    "> В результате получаем токенизированный датасет, готовый для подачи в модель Seq2Seq.\n"
   ]
  },
  {
   "cell_type": "code",
   "execution_count": null,
   "id": "64e6e43b",
   "metadata": {},
   "outputs": [
    {
     "name": "stderr",
     "output_type": "stream",
     "text": [
      "Xet Storage is enabled for this repo, but the 'hf_xet' package is not installed. Falling back to regular HTTP download. For better performance, install the package with: `pip install huggingface_hub[hf_xet]` or `pip install hf_xet`\n",
      "Error while downloading from https://huggingface.co/facebook/mbart-large-50/resolve/refs%2Fpr%2F7/model.safetensors: HTTPSConnectionPool(host='cas-bridge.xethub.hf.co', port=443): Read timed out.\n",
      "Trying to resume download...\n"
     ]
    }
   ],
   "source": [
    "from transformers import AutoModelForSeq2SeqLM, DataCollatorForSeq2Seq, TrainingArguments, Trainer\n",
    "import torch\n",
    "\n",
    "model_name = \"facebook/mbart-large-50\"\n",
    "model = AutoModelForSeq2SeqLM.from_pretrained(model_name).to(torch.device(\"cuda\" if torch.cuda.is_available() else \"cpu\"))\n",
    "data_collator = DataCollatorForSeq2Seq(tokenizer, model=model)\n",
    "\n",
    "training_args = TrainingArguments(\n",
    "    output_dir=\"./mbart-space-fix\",\n",
    "    num_train_epochs=2,\n",
    "    per_device_train_batch_size=16,\n",
    "    per_device_eval_batch_size=16,\n",
    "    learning_rate=1e-4,\n",
    "    weight_decay=0.01,\n",
    "    logging_dir=\"./logs\",\n",
    "    logging_steps=50,\n",
    "    save_steps=500,\n",
    "    save_total_limit=2,\n",
    "    fp16=True,\n",
    "    eval_steps=50\n",
    ")\n",
    "\n",
    "trainer = Trainer(\n",
    "    model=model,\n",
    "    args=training_args,\n",
    "    train_dataset=train_dataset,\n",
    "    eval_dataset=eval_dataset,\n",
    "    processing_class=tokenizer,\n",
    "    data_collator=data_collator\n",
    ")"
   ]
  },
  {
   "cell_type": "markdown",
   "id": "c59fa515",
   "metadata": {},
   "source": [
    "### Настройка и обучение модели Seq2Seq\n",
    "\n",
    "1. **Загрузка модели**  \n",
    "   Используется `facebook/mbart-large-50`. Модель сразу переводится на GPU (если доступен).\n",
    "\n",
    "2. **DataCollator**  \n",
    "   - `DataCollatorForSeq2Seq` автоматически подготавливает батчи, выравнивая длины входов и меток.\n",
    "\n",
    "3. **TrainingArguments**  \n",
    "   - `output_dir` — папка для чекпоинтов.  \n",
    "   - `num_train_epochs` — количество эпох обучения.  \n",
    "   - `per_device_train_batch_size`, `per_device_eval_batch_size` — размеры батчей.  \n",
    "   - `learning_rate`, `weight_decay` — параметры оптимизации.  \n",
    "   - `logging_dir`, `logging_steps` — логирование.  \n",
    "   - `save_steps`, `save_total_limit` — сохранение чекпоинтов.  \n",
    "   - `fp16=True` — использование смешанной точности (если есть поддержка GPU).  \n",
    "   - `eval_steps` — частота оценки на валидации.\n",
    "\n",
    "4. **Trainer**  \n",
    "   - Инкапсулирует весь процесс обучения: подачу батчей, вычисление лосса, оптимизацию, логирование и сохранение модели.  \n",
    "   - `train_dataset` и `eval_dataset` — подготовленные токенизированные датасеты.  \n",
    "   - `tokenizer` используется для обработки текстов.  \n",
    "   - `data_collator` выравнивает батчи по длине.\n"
   ]
  },
  {
   "cell_type": "code",
   "execution_count": 22,
   "id": "7addd891",
   "metadata": {},
   "outputs": [
    {
     "data": {
      "text/html": [
       "\n",
       "    <div>\n",
       "      \n",
       "      <progress value='1300' max='1300' style='width:300px; height:20px; vertical-align: middle;'></progress>\n",
       "      [1300/1300 1:21:53, Epoch 2/2]\n",
       "    </div>\n",
       "    <table border=\"1\" class=\"dataframe\">\n",
       "  <thead>\n",
       " <tr style=\"text-align: left;\">\n",
       "      <th>Step</th>\n",
       "      <th>Training Loss</th>\n",
       "    </tr>\n",
       "  </thead>\n",
       "  <tbody>\n",
       "    <tr>\n",
       "      <td>50</td>\n",
       "      <td>5.496000</td>\n",
       "    </tr>\n",
       "    <tr>\n",
       "      <td>100</td>\n",
       "      <td>0.774100</td>\n",
       "    </tr>\n",
       "    <tr>\n",
       "      <td>150</td>\n",
       "      <td>0.592200</td>\n",
       "    </tr>\n",
       "    <tr>\n",
       "      <td>200</td>\n",
       "      <td>0.595600</td>\n",
       "    </tr>\n",
       "    <tr>\n",
       "      <td>250</td>\n",
       "      <td>0.517600</td>\n",
       "    </tr>\n",
       "    <tr>\n",
       "      <td>300</td>\n",
       "      <td>0.493600</td>\n",
       "    </tr>\n",
       "    <tr>\n",
       "      <td>350</td>\n",
       "      <td>0.373000</td>\n",
       "    </tr>\n",
       "    <tr>\n",
       "      <td>400</td>\n",
       "      <td>0.414300</td>\n",
       "    </tr>\n",
       "    <tr>\n",
       "      <td>450</td>\n",
       "      <td>0.418300</td>\n",
       "    </tr>\n",
       "    <tr>\n",
       "      <td>500</td>\n",
       "      <td>0.320000</td>\n",
       "    </tr>\n",
       "    <tr>\n",
       "      <td>550</td>\n",
       "      <td>0.314400</td>\n",
       "    </tr>\n",
       "    <tr>\n",
       "      <td>600</td>\n",
       "      <td>0.331200</td>\n",
       "    </tr>\n",
       "    <tr>\n",
       "      <td>650</td>\n",
       "      <td>0.267000</td>\n",
       "    </tr>\n",
       "    <tr>\n",
       "      <td>700</td>\n",
       "      <td>0.110700</td>\n",
       "    </tr>\n",
       "    <tr>\n",
       "      <td>750</td>\n",
       "      <td>0.107500</td>\n",
       "    </tr>\n",
       "    <tr>\n",
       "      <td>800</td>\n",
       "      <td>0.094000</td>\n",
       "    </tr>\n",
       "    <tr>\n",
       "      <td>850</td>\n",
       "      <td>0.096300</td>\n",
       "    </tr>\n",
       "    <tr>\n",
       "      <td>900</td>\n",
       "      <td>0.090300</td>\n",
       "    </tr>\n",
       "    <tr>\n",
       "      <td>950</td>\n",
       "      <td>0.078300</td>\n",
       "    </tr>\n",
       "    <tr>\n",
       "      <td>1000</td>\n",
       "      <td>0.063500</td>\n",
       "    </tr>\n",
       "    <tr>\n",
       "      <td>1050</td>\n",
       "      <td>0.054200</td>\n",
       "    </tr>\n",
       "    <tr>\n",
       "      <td>1100</td>\n",
       "      <td>0.064000</td>\n",
       "    </tr>\n",
       "    <tr>\n",
       "      <td>1150</td>\n",
       "      <td>0.062800</td>\n",
       "    </tr>\n",
       "    <tr>\n",
       "      <td>1200</td>\n",
       "      <td>0.082300</td>\n",
       "    </tr>\n",
       "    <tr>\n",
       "      <td>1250</td>\n",
       "      <td>0.064500</td>\n",
       "    </tr>\n",
       "    <tr>\n",
       "      <td>1300</td>\n",
       "      <td>0.065400</td>\n",
       "    </tr>\n",
       "  </tbody>\n",
       "</table><p>"
      ],
      "text/plain": [
       "<IPython.core.display.HTML object>"
      ]
     },
     "metadata": {},
     "output_type": "display_data"
    },
    {
     "name": "stderr",
     "output_type": "stream",
     "text": [
      "c:\\Work_life\\HSE_and_study\\Intern\\Avito\\venv\\Lib\\site-packages\\transformers\\modeling_utils.py:4037: UserWarning: Moving the following attributes in the config to the generation config: {'max_length': 200, 'early_stopping': True, 'num_beams': 5}. You are seeing this warning because you've set generation parameters in the model config, as opposed to in the generation config.\n",
      "  warnings.warn(\n"
     ]
    },
    {
     "data": {
      "text/plain": [
       "TrainOutput(global_step=1300, training_loss=0.45927350007570705, metrics={'train_runtime': 4918.9503, 'train_samples_per_second': 4.229, 'train_steps_per_second': 0.264, 'total_flos': 904912123723776.0, 'train_loss': 0.45927350007570705, 'epoch': 2.0})"
      ]
     },
     "execution_count": 22,
     "metadata": {},
     "output_type": "execute_result"
    }
   ],
   "source": [
    "trainer.train()"
   ]
  },
  {
   "cell_type": "code",
   "execution_count": null,
   "id": "a336c0d7",
   "metadata": {},
   "outputs": [
    {
     "name": "stdout",
     "output_type": "stream",
     "text": [
      "Но надорогеты его не будешь\n"
     ]
    }
   ],
   "source": [
    "import torch\n",
    "\n",
    "device = torch.device(\"cuda\" if torch.cuda.is_available() else \"cpu\")\n",
    "\n",
    "text = \"Нонадорогетыегоненайдешь\"\n",
    "\n",
    "inputs = tokenizer(text, return_tensors=\"pt\").to(device)\n",
    "\n",
    "model.to(device)\n",
    "\n",
    "output_ids = model.generate(**inputs, max_length=50)\n",
    "\n",
    "print(tokenizer.decode(output_ids[0], skip_special_tokens=True))"
   ]
  },
  {
   "cell_type": "code",
   "execution_count": 24,
   "id": "cc9ec574",
   "metadata": {},
   "outputs": [
    {
     "name": "stdout",
     "output_type": "stream",
     "text": [
      "Москва 2023 телефон Philips\n"
     ]
    }
   ],
   "source": [
    "inputs = tokenizer(text, return_tensors=\"pt\").to(device)\n",
    "model.to(device)\n",
    "\n",
    "# Генерация с beam search\n",
    "output_ids = model.generate(\n",
    "    **inputs,\n",
    "    max_length=50,\n",
    "    num_beams=5,\n",
    "    early_stopping=True\n",
    ")\n",
    "\n",
    "decoded = tokenizer.decode(output_ids[0], skip_special_tokens=True)\n",
    "print(decoded)\n"
   ]
  },
  {
   "cell_type": "code",
   "execution_count": null,
   "id": "cb4bfa59",
   "metadata": {},
   "outputs": [
    {
     "name": "stdout",
     "output_type": "stream",
     "text": [
      "12.6\n",
      "True\n",
      "NVIDIA GeForce RTX 3060 Laptop GPU\n"
     ]
    }
   ],
   "source": [
    "import torch\n",
    "print(torch.version.cuda)          \n",
    "print(torch.cuda.is_available())   \n",
    "print(torch.cuda.get_device_name(0))  "
   ]
  },
  {
   "cell_type": "markdown",
   "id": "50c981a6",
   "metadata": {},
   "source": [
    "Выгрузка в HuggingFace"
   ]
  },
  {
   "cell_type": "code",
   "execution_count": null,
   "id": "dc943885",
   "metadata": {},
   "outputs": [],
   "source": [
    "from huggingface_hub import login\n",
    "\n",
    "login(token=\"\")"
   ]
  },
  {
   "cell_type": "code",
   "execution_count": 29,
   "id": "35270931",
   "metadata": {},
   "outputs": [
    {
     "name": "stderr",
     "output_type": "stream",
     "text": [
      "model.safetensors: 100%|██████████| 2.44G/2.44G [08:24<00:00, 4.84MB/s]   \n"
     ]
    },
    {
     "data": {
      "text/plain": [
       "CommitInfo(commit_url='https://huggingface.co/Dropdead072/mbart-large-50-spaces/commit/7d8e7505dc080589dc10e21e97b41980d710f885', commit_message='Upload MBartForConditionalGeneration', commit_description='', oid='7d8e7505dc080589dc10e21e97b41980d710f885', pr_url=None, repo_url=RepoUrl('https://huggingface.co/Dropdead072/mbart-large-50-spaces', endpoint='https://huggingface.co', repo_type='model', repo_id='Dropdead072/mbart-large-50-spaces'), pr_revision=None, pr_num=None)"
      ]
     },
     "execution_count": 29,
     "metadata": {},
     "output_type": "execute_result"
    }
   ],
   "source": [
    "model.push_to_hub(\"Dropdead072/mbart-large-50-spaces\", use_auth_token=True)"
   ]
  },
  {
   "cell_type": "code",
   "execution_count": null,
   "id": "1e9226c3",
   "metadata": {},
   "outputs": [],
   "source": []
  }
 ],
 "metadata": {
  "kernelspec": {
   "display_name": "venv",
   "language": "python",
   "name": "python3"
  },
  "language_info": {
   "codemirror_mode": {
    "name": "ipython",
    "version": 3
   },
   "file_extension": ".py",
   "mimetype": "text/x-python",
   "name": "python",
   "nbconvert_exporter": "python",
   "pygments_lexer": "ipython3",
   "version": "3.11.7"
  }
 },
 "nbformat": 4,
 "nbformat_minor": 5
}
