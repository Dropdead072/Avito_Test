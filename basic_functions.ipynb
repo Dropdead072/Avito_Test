{
 "cells": [
  {
   "cell_type": "code",
   "execution_count": 17,
   "id": "db172e5c",
   "metadata": {},
   "outputs": [],
   "source": [
    "import pandas as pd\n",
    "import numpy as np\n",
    "\n",
    "from processing import *"
   ]
  },
  {
   "cell_type": "code",
   "execution_count": 18,
   "id": "bc4c5fc5",
   "metadata": {},
   "outputs": [],
   "source": [
    "path = 'data\\dataset_1937770_3.txt'"
   ]
  },
  {
   "cell_type": "code",
   "execution_count": 19,
   "id": "cbf1a294",
   "metadata": {},
   "outputs": [
    {
     "data": {
      "text/html": [
       "<div>\n",
       "<style scoped>\n",
       "    .dataframe tbody tr th:only-of-type {\n",
       "        vertical-align: middle;\n",
       "    }\n",
       "\n",
       "    .dataframe tbody tr th {\n",
       "        vertical-align: top;\n",
       "    }\n",
       "\n",
       "    .dataframe thead th {\n",
       "        text-align: right;\n",
       "    }\n",
       "</style>\n",
       "<table border=\"1\" class=\"dataframe\">\n",
       "  <thead>\n",
       "    <tr style=\"text-align: right;\">\n",
       "      <th></th>\n",
       "      <th>text_no_spaces</th>\n",
       "    </tr>\n",
       "    <tr>\n",
       "      <th>id</th>\n",
       "      <th></th>\n",
       "    </tr>\n",
       "  </thead>\n",
       "  <tbody>\n",
       "    <tr>\n",
       "      <th>3</th>\n",
       "      <td>новыйдивандоставканедорого</td>\n",
       "    </tr>\n",
       "    <tr>\n",
       "      <th>326</th>\n",
       "      <td>куплюмикроволновкубу</td>\n",
       "    </tr>\n",
       "    <tr>\n",
       "      <th>641</th>\n",
       "      <td>Настанетдень,ияеёброшу</td>\n",
       "    </tr>\n",
       "    <tr>\n",
       "      <th>208</th>\n",
       "      <td>новыйтостер,черный</td>\n",
       "    </tr>\n",
       "    <tr>\n",
       "      <th>9</th>\n",
       "      <td>куплюноутбукHP</td>\n",
       "    </tr>\n",
       "  </tbody>\n",
       "</table>\n",
       "</div>"
      ],
      "text/plain": [
       "                 text_no_spaces\n",
       "id                             \n",
       "3    новыйдивандоставканедорого\n",
       "326        куплюмикроволновкубу\n",
       "641      Настанетдень,ияеёброшу\n",
       "208          новыйтостер,черный\n",
       "9                куплюноутбукHP"
      ]
     },
     "execution_count": 19,
     "metadata": {},
     "output_type": "execute_result"
    }
   ],
   "source": [
    "df = read_and_split_file(path)\n",
    "df.sample(5)"
   ]
  },
  {
   "cell_type": "code",
   "execution_count": 20,
   "id": "c9d99eb2",
   "metadata": {},
   "outputs": [
    {
     "name": "stdout",
     "output_type": "stream",
     "text": [
      "Исходный: куплюайфон14про\n",
      "Результат: куплю айфон 14 про\n",
      "\n",
      "Исходный: ищудомвПодмосковье\n",
      "Результат: ищу дом в Подмосковье\n",
      "\n",
      "Исходный: сдаюквартирусмебельюитехникой\n",
      "Результат: сдаю квартирусмебельюитехникой\n",
      "\n",
      "Исходный: куплютелевизорPhilips\n",
      "Результат: куплю телевизор Philips\n",
      "\n",
      "Исходный: новыйноутбукAsus\n",
      "Результат: новый ноутбук Asus\n",
      "\n",
      "Исходный: куплюPlaystation5диск\n",
      "Результат: куплю Playstation 5 диск\n",
      "\n",
      "Исходный: ремонтквартирподключ\n",
      "Результат: ремонтквартирподключ\n",
      "\n",
      "Исходный: новыйдиванIkea\n",
      "Результат: новый диван Ikea\n",
      "\n",
      "Исходный: куплюшкаф,рабочий\n",
      "Результат: куплю шкаф, рабочий\n",
      "\n"
     ]
    }
   ],
   "source": [
    "restorer = SpaceRestorer()\n",
    "\n",
    "test_cases = [\n",
    "    \"куплюайфон14про\",\n",
    "    \"ищудомвПодмосковье\",\n",
    "    \"сдаюквартирусмебельюитехникой\",\n",
    "    \"куплютелевизорPhilips\",\n",
    "    \"новыйноутбукAsus\",\n",
    "    \"куплюPlaystation5диск\",\n",
    "    \"ремонтквартирподключ\",\n",
    "    \"новыйдиванIkea\",\n",
    "    \"куплюшкаф,рабочий\"\n",
    "]\n",
    "\n",
    "for case in test_cases:\n",
    "    print(f\"Исходный: {case}\")\n",
    "    print(f\"Результат: {restorer.restore_spaces(case)}\\n\")\n"
   ]
  },
  {
   "cell_type": "code",
   "execution_count": null,
   "id": "49b5dc90",
   "metadata": {},
   "outputs": [
    {
     "name": "stdout",
     "output_type": "stream",
     "text": [
      "User-Agent: Mozilla/5.0 (Windows NT 10.0; Win64; x64) Chrome/119.0.0.0 Safari/537.36\n",
      "\n",
      "Скачиваем брендовые статьи...\n",
      "Скачиваем случайные статьи...\n"
     ]
    },
    {
     "name": "stderr",
     "output_type": "stream",
     "text": [
      "Случайные статьи: 100%|██████████| 100/100 [00:00<00:00, 176900.21it/s]"
     ]
    },
    {
     "name": "stdout",
     "output_type": "stream",
     "text": [
      "Формируем общий корпус...\n",
      "Создаём датасет из Википедии...\n",
      "Создаём синтетический датасет...\n",
      "Готово! Сохранено в wiki_dataset.csv\n"
     ]
    },
    {
     "name": "stderr",
     "output_type": "stream",
     "text": [
      "\n"
     ]
    }
   ],
   "source": [
    "from data_collection import *\n",
    "\n",
    "\n",
    "brand_pages = [\n",
    "    \"Apple\",\n",
    "    \"Google\",\n",
    "    \"Microsoft\",\n",
    "    \"Amazon\",\n",
    "    \"Meta\",\n",
    "    \"Tesla\",\n",
    "    \"Samsung\",\n",
    "    \"Huawei\",\n",
    "    \"Xiaomi\",\n",
    "    \"Intel\",\n",
    "    \"AMD\",\n",
    "    \"PlayStation\",\n",
    "    \"Xbox\",\n",
    "    \"Nintendo\",\n",
    "    \"LG\",\n",
    "    \"Philips\",\n",
    "    \"Sony\",\n",
    "    \"Dell\",\n",
    "    \"HP\",\n",
    "    \"Asus\",\n",
    "    \"Lenovo\",\n",
    "]\n",
    "\n",
    "print(\"Скачиваем брендовые статьи...\")\n",
    "brand_texts = [get_wiki_page(title, lang=\"ru\") for title in brand_pages]\n",
    "\n",
    "print(\"Скачиваем случайные статьи...\")\n",
    "random_texts = get_random_articles(n=100, lang=\"ru\")\n",
    "\n",
    "print(\"Формируем общий корпус...\")\n",
    "full_text = \" \".join(brand_texts + random_texts)\n",
    "\n",
    "print(\"Создаём датасет из Википедии...\")\n",
    "wiki_rows = make_dataset(full_text, n_samples=10000)\n",
    "\n",
    "print(\"Создаём синтетический датасет...\")\n",
    "synthetic_rows = generate_synthetic(rows_count=3000)\n",
    "\n",
    "all_rows = wiki_rows + synthetic_rows\n",
    "df = pd.DataFrame(all_rows)\n",
    "\n",
    "df.to_csv(\"train_model_data\\wiki_dataset.csv\", index=False, encoding=\"utf-8\", sep=';')\n",
    "print(\"Готово! Сохранено в wiki_dataset.csv\")\n"
   ]
  },
  {
   "cell_type": "code",
   "execution_count": null,
   "id": "18d5e4f6",
   "metadata": {},
   "outputs": [],
   "source": []
  }
 ],
 "metadata": {
  "kernelspec": {
   "display_name": "venv",
   "language": "python",
   "name": "python3"
  },
  "language_info": {
   "codemirror_mode": {
    "name": "ipython",
    "version": 3
   },
   "file_extension": ".py",
   "mimetype": "text/x-python",
   "name": "python",
   "nbconvert_exporter": "python",
   "pygments_lexer": "ipython3",
   "version": "3.11.7"
  }
 },
 "nbformat": 4,
 "nbformat_minor": 5
}
